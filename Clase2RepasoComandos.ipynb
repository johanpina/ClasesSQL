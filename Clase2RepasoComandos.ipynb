{
 "cells": [
  {
   "attachments": {},
   "cell_type": "markdown",
   "metadata": {},
   "source": [
    "## Clase de repaso de comandos\n",
    "\n",
    "#### Vamos a implementar el siguiente ejercicio:\n",
    "<center>\n",
    "<img src=\"images/diagramaClaseBiblioteca.svg\">\n",
    "</center>"
   ]
  },
  {
   "attachments": {},
   "cell_type": "markdown",
   "metadata": {},
   "source": [
    "#### Crear la base de datos"
   ]
  },
  {
   "cell_type": "code",
   "execution_count": null,
   "metadata": {
    "vscode": {
     "languageId": "sql"
    }
   },
   "outputs": [],
   "source": [
    "CREATE DATABASE biblioteca;\n",
    "use biblioteca;"
   ]
  },
  {
   "attachments": {},
   "cell_type": "markdown",
   "metadata": {},
   "source": [
    "#### Crear las tablas"
   ]
  },
  {
   "cell_type": "code",
   "execution_count": null,
   "metadata": {
    "vscode": {
     "languageId": "sql"
    }
   },
   "outputs": [],
   "source": [
    "CREATE TABLE Autor (\n",
    "  ID_Autor INT PRIMARY KEY AUTO_INCREMENT,\n",
    "  Nombre VARCHAR(100),\n",
    "  Nacionalidad VARCHAR(50)\n",
    ");"
   ]
  },
  {
   "cell_type": "code",
   "execution_count": null,
   "metadata": {
    "vscode": {
     "languageId": "sql"
    }
   },
   "outputs": [],
   "source": [
    "CREATE TABLE Libro (\n",
    "  ID_Libro INT PRIMARY KEY AUTO_INCREMENT,\n",
    "  Titulo VARCHAR(100),\n",
    "  ID_Autor INT,\n",
    "  Ano_Publicacion INT,\n",
    "  FOREIGN KEY (ID_Autor) REFERENCES Autor(ID_Autor)\n",
    ");"
   ]
  },
  {
   "cell_type": "code",
   "execution_count": null,
   "metadata": {
    "vscode": {
     "languageId": "sql"
    }
   },
   "outputs": [],
   "source": [
    "CREATE TABLE Estudiante (\n",
    "  ID_Estudiante INT PRIMARY KEY AUTO_INCREMENT,\n",
    "  Nombre VARCHAR(100),\n",
    "  Direccion VARCHAR(100),\n",
    "  Telefono VARCHAR(15)\n",
    ");"
   ]
  },
  {
   "cell_type": "code",
   "execution_count": null,
   "metadata": {
    "vscode": {
     "languageId": "sql"
    }
   },
   "outputs": [],
   "source": [
    "CREATE TABLE Prestamo (\n",
    "  ID_Prestamo INT PRIMARY KEY AUTO_INCREMENT,\n",
    "  ID_Estudiante INT,\n",
    "  ID_Libro INT,\n",
    "  Fecha_Prestamo DATE,\n",
    "  Fecha_Devolucion DATE,\n",
    "  FOREIGN KEY (ID_Estudiante) REFERENCES Estudiante(ID_Estudiante),\n",
    "  FOREIGN KEY (ID_Libro) REFERENCES Libro(ID_Libro)\n",
    ");"
   ]
  },
  {
   "cell_type": "code",
   "execution_count": null,
   "metadata": {
    "vscode": {
     "languageId": "sql"
    }
   },
   "outputs": [],
   "source": [
    "CREATE TABLE Categoria (\n",
    "  ID_Categoria INT PRIMARY KEY AUTO_INCREMENT,\n",
    "  Nombre_Categoria VARCHAR(50)\n",
    ");"
   ]
  },
  {
   "cell_type": "code",
   "execution_count": null,
   "metadata": {
    "vscode": {
     "languageId": "sql"
    }
   },
   "outputs": [],
   "source": [
    "CREATE TABLE Libro_Categoria (\n",
    "  ID_Libro INT,\n",
    "  ID_Categoria INT,\n",
    "  PRIMARY KEY (ID_Libro, ID_Categoria),\n",
    "  FOREIGN KEY (ID_Libro) REFERENCES Libro(ID_Libro),\n",
    "  FOREIGN KEY (ID_Categoria) REFERENCES Categoria(ID_Categoria)\n",
    ");"
   ]
  },
  {
   "attachments": {},
   "cell_type": "markdown",
   "metadata": {},
   "source": [
    "#### Popular la base de datos: LLenar"
   ]
  },
  {
   "cell_type": "code",
   "execution_count": null,
   "metadata": {
    "vscode": {
     "languageId": "sql"
    }
   },
   "outputs": [],
   "source": [
    "INSERT INTO Autor (Nombre, Nacionalidad) VALUES\n",
    "('Gabriel García Márquez', NULL),\n",
    "('J.K. Rowling', 'Británica'),\n",
    "('George R. R. Martin', NULL),\n",
    "('J.R.R. Tolkien', 'Británico'),\n",
    "('Stephen King', NULL),\n",
    "('Isabel Allende', 'Chilena'),\n",
    "('Paulo Coelho', NULL),\n",
    "('Agatha Christie', 'Británica'),\n",
    "('Dan Brown', NULL),\n",
    "(NULL, 'Japonés');\n"
   ]
  },
  {
   "cell_type": "code",
   "execution_count": null,
   "metadata": {
    "vscode": {
     "languageId": "sql"
    }
   },
   "outputs": [],
   "source": [
    "INSERT INTO Libro (Titulo, ID_Autor, Ano_Publicacion) VALUES\n",
    "('Cien años de soledad', 1, 1967),\n",
    "('Harry Potter y la piedra filosofal', 2, 1997),\n",
    "('Juego de Tronos', 3, NULL),\n",
    "('El Señor de los Anillos', 4, 1954),\n",
    "('El Resplandor', 5, 1977),\n",
    "('La Casa de los Espíritus', 6, NULL),\n",
    "(NULL, 7, 1988),\n",
    "('Asesinato en el Orient Express', 8, NULL),\n",
    "('El Código Da Vinci', 9, 2003),\n",
    "(NULL, 10, 2002);"
   ]
  },
  {
   "attachments": {},
   "cell_type": "markdown",
   "metadata": {},
   "source": [
    "            El alquimista"
   ]
  },
  {
   "cell_type": "code",
   "execution_count": null,
   "metadata": {
    "vscode": {
     "languageId": "sql"
    }
   },
   "outputs": [],
   "source": [
    "INSERT INTO Estudiante (Nombre, Direccion, Telefono) VALUES\n",
    "('Juan Pérez', 'Calle 123', '1234567890'),\n",
    "('María Rodríguez', 'Avenida 456', '0987654321'),\n",
    "('Carlos García', 'Boulevard 789', NULL),\n",
    "('Ana López', 'Carrera 321', '5566778899'),\n",
    "(NULL, 'Transversal 654', '9988776655');"
   ]
  },
  {
   "cell_type": "code",
   "execution_count": null,
   "metadata": {
    "vscode": {
     "languageId": "sql"
    }
   },
   "outputs": [],
   "source": [
    "INSERT INTO Prestamo (ID_Estudiante, ID_Libro, Fecha_Prestamo, Fecha_Devolucion) VALUES\n",
    "(1, 1, '2023-01-01', '2023-01-15'),\n",
    "(1, 2, '2023-01-16', NULL),\n",
    "(2, 3, NULL, '2023-02-15'),\n",
    "(2, 4, '2023-02-16', NULL),\n",
    "(3, 5, '2023-03-01', '2023-03-15');"
   ]
  },
  {
   "cell_type": "code",
   "execution_count": null,
   "metadata": {
    "vscode": {
     "languageId": "sql"
    }
   },
   "outputs": [],
   "source": [
    "INSERT INTO Categoria (Nombre_Categoria) VALUES\n",
    "('Novela'),\n",
    "('Fantasía'),\n",
    "('Ciencia Ficción'),\n",
    "('Terror'),\n",
    "('Misterio'),\n",
    "('Romance'),\n",
    "('Historia'),\n",
    "('Biografía'),\n",
    "('Autoayuda'),\n",
    "('Aventura');"
   ]
  },
  {
   "cell_type": "code",
   "execution_count": null,
   "metadata": {
    "vscode": {
     "languageId": "sql"
    }
   },
   "outputs": [],
   "source": [
    "INSERT INTO Libro_Categoria (ID_Libro, ID_Categoria) VALUES\n",
    "(1, 1),\n",
    "(2, 2),\n",
    "(3, 2),\n",
    "(4, 2),\n",
    "(5, 1),\n",
    "(6, 1),\n",
    "(7, 1),\n",
    "(8, 5),\n",
    "(9, 5),\n",
    "(10, 1);\n"
   ]
  },
  {
   "attachments": {},
   "cell_type": "markdown",
   "metadata": {},
   "source": [
    "#### Eliminar tabla"
   ]
  },
  {
   "cell_type": "code",
   "execution_count": null,
   "metadata": {
    "vscode": {
     "languageId": "sql"
    }
   },
   "outputs": [],
   "source": [
    "DROP TABLE `autor`, `categoria`, `estudiante`, `libro`, `libro_categoria`, `prestamo`;"
   ]
  },
  {
   "attachments": {},
   "cell_type": "markdown",
   "metadata": {},
   "source": [
    "#### Borrar todos los datos de una tabla"
   ]
  },
  {
   "cell_type": "code",
   "execution_count": null,
   "metadata": {
    "vscode": {
     "languageId": "sql"
    }
   },
   "outputs": [],
   "source": [
    "TRUNCATE `autor`;\n",
    "TRUNCATE `categoria`;\n",
    "TRUNCATE `estudiante`;\n",
    "TRUNCATE `libro`;\n",
    "TRUNCATE `libro_categoria`;\n",
    "TRUNCATE `prestamo`;"
   ]
  },
  {
   "attachments": {},
   "cell_type": "markdown",
   "metadata": {},
   "source": [
    "#### Actualizar tabla"
   ]
  },
  {
   "cell_type": "code",
   "execution_count": null,
   "metadata": {
    "vscode": {
     "languageId": "sql"
    }
   },
   "outputs": [],
   "source": [
    "UPDATE Estudiantes\n",
    "SET Telefono = '1234567890'\n",
    "WHERE Nombre = 'Juan';"
   ]
  },
  {
   "attachments": {},
   "cell_type": "markdown",
   "metadata": {},
   "source": [
    "#### Consultas avanzadas\n",
    "####  Join\n",
    "\n",
    "Un JOIN en SQL es como un puente que conecta dos tablas en una base de datos. Imagina que tienes dos listas de información, pero necesitas combinarlas de alguna manera para obtener una imagen más completa. Eso es básicamente lo que hace un JOIN."
   ]
  },
  {
   "attachments": {},
   "cell_type": "markdown",
   "metadata": {},
   "source": [
    "<img src=\"images/tableJoins.png\">"
   ]
  },
  {
   "attachments": {},
   "cell_type": "markdown",
   "metadata": {},
   "source": [
    "##### Estructura"
   ]
  },
  {
   "cell_type": "code",
   "execution_count": null,
   "metadata": {
    "vscode": {
     "languageId": "sql"
    }
   },
   "outputs": [],
   "source": [
    "SELECT columnas\n",
    "FROM tabla1\n",
    "JOIN tabla2 ON condición"
   ]
  },
  {
   "attachments": {},
   "cell_type": "markdown",
   "metadata": {},
   "source": [
    "##### Tipos de Joins\n",
    "\n",
    "<img src=\"images/joins.png\">"
   ]
  },
  {
   "attachments": {},
   "cell_type": "markdown",
   "metadata": {},
   "source": [
    "#### Ejercicio 1\n",
    "\n",
    "Obtén una lista de todos los libros que un estudiante específico ha tomado prestados. Para este ejercicio, necesitarás unir las tablas \"ESTUDIANTE\", \"PRESTAMO\" y \"LIBRO\"."
   ]
  },
  {
   "cell_type": "code",
   "execution_count": null,
   "metadata": {
    "vscode": {
     "languageId": "sql"
    }
   },
   "outputs": [],
   "source": [
    "SELECT *\n",
    "FROM Estudiante E\n",
    "JOIN Prestamo P ON E.ID_Estudiante = P.ID_Estudiante\n",
    "JOIN Libro L ON P.ID_Libro = L.ID_Libro\n",
    "WHERE E.ID_Estudiante = 1;"
   ]
  },
  {
   "attachments": {},
   "cell_type": "markdown",
   "metadata": {},
   "source": [
    "#### Ejercicio 2\n",
    "Obtén una lista de todos los autores de los libros que un estudiante específico ha tomado prestados. Para este ejercicio, necesitarás unir las tablas \"ESTUDIANTE\", \"PRESTAMO\", \"LIBRO\" y \"AUTOR\"."
   ]
  },
  {
   "cell_type": "code",
   "execution_count": null,
   "metadata": {
    "vscode": {
     "languageId": "sql"
    }
   },
   "outputs": [],
   "source": [
    "SELECT A.Nombre\n",
    "FROM Estudiante E\n",
    "JOIN Prestamo P ON E.ID_Estudiante = P.ID_Estudiante\n",
    "JOIN Libro L ON P.ID_Libro = L.ID_Libro\n",
    "JOIN Autor A ON L.ID_Autor = A.ID_Autor\n",
    "WHERE E.Nombre = 'Nombre del Estudiante';"
   ]
  },
  {
   "attachments": {},
   "cell_type": "markdown",
   "metadata": {},
   "source": [
    "#### Taller\n",
    "\n",
    "1. Encuentra todos los libros publicados después del año 2010.\n",
    "2. Muestra los nombres de los usuarios que han prestado libros en la biblioteca.\n",
    "3. Encuentra el título y el autor de los libros prestados actualmente (es decir, aquellos que aún no han sido devueltos).\n",
    "4. Muestra el nombre del usuario que ha prestado más libros en la biblioteca.\n",
    "5. Encuentra los libros que fueron prestados por un usuario en particular (se proporciona el ID del usuario).\n",
    "6. Encuentra el número total de libros prestados en la biblioteca hasta la fecha.\n",
    "7. Muestra los nombres de los usuarios que han prestado al menos un libro en más de una ocasión.\n",
    "8. Encuentra el título y el autor de los libros que aún no han sido prestados.\n",
    "9. Muestra el promedio de días que los libros son prestados antes de ser devueltos.\n",
    "10. Encuentra los usuarios que tienen libros prestados actualmente y que también hayan prestado libros en el último mes.\n",
    "11. Encuentra los libros cuyo título contiene la palabra \"aventura\" y fueron publicados antes del año 2000.\n",
    "12. Muestra los usuarios que han prestado libros más de una vez en un lapso de tiempo de una semana.\n",
    "13. Encuentra los libros que han sido prestados por usuarios cuyo nombre empieza con la letra \"J\".\n",
    "14. Muestra el nombre de los autores que tienen al menos dos libros en la biblioteca.\n",
    "15. Encuentra el título y el autor del libro menos prestado en la biblioteca.\n",
    "16. Muestra los usuarios que nunca han prestado un libro en la biblioteca.\n",
    "17. Encuentra los libros prestados en los últimos 30 días y ordena la lista por fecha de préstamo de forma descendente.\n",
    "18. Muestra el nombre de los usuarios y la cantidad de libros que han prestado en total, en orden descendente por la cantidad de libros prestados.\n",
    "19. Encuentra los libros que han sido prestados y devueltos en la misma fecha.\n",
    "20. Muestra el título y el autor de los libros que han sido prestados más de una vez en la misma fecha."
   ]
  },
  {
   "cell_type": "code",
   "execution_count": null,
   "metadata": {
    "vscode": {
     "languageId": "sql"
    }
   },
   "outputs": [],
   "source": []
  },
  {
   "attachments": {},
   "cell_type": "markdown",
   "metadata": {},
   "source": [
    "#### Tarea"
   ]
  },
  {
   "attachments": {},
   "cell_type": "markdown",
   "metadata": {},
   "source": [
    "Vamos a realizar el montaje de la siguiente base de datos de acuerdo con el diagrama ER."
   ]
  },
  {
   "attachments": {},
   "cell_type": "markdown",
   "metadata": {},
   "source": [
    "<img src='images/DiagramaMedicoEnCasa.png'>"
   ]
  },
  {
   "attachments": {},
   "cell_type": "markdown",
   "metadata": {},
   "source": [
    "Deben enviar un archivo con las consultas ejecutadas para crear la base de datos, las tablas y los ejercicios propuestos más abajo:\n",
    "\n",
    "1. \n",
    "2. \n",
    "3. \n",
    "4. \n",
    "5. \n",
    "6. \n",
    "7. \n",
    "8. \n",
    "9. \n",
    "10. "
   ]
  },
  {
   "attachments": {},
   "cell_type": "markdown",
   "metadata": {},
   "source": [
    "**Nota: Con los scripts que me envíen, se debe poder correr por parte del docente y obtener las consultas correctas sin errores.**\n"
   ]
  }
 ],
 "metadata": {
  "language_info": {
   "name": "python"
  },
  "orig_nbformat": 4
 },
 "nbformat": 4,
 "nbformat_minor": 2
}
